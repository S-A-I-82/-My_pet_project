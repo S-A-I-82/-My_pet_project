{
 "cells": [
  {
   "cell_type": "markdown",
   "id": "333df796",
   "metadata": {},
   "source": [
    "# Задание 1. A/B–тестирование\n",
    "\n",
    "###  1.1 Условие\n",
    "\n",
    "Одной из основных задач аналитика в нашей команде является корректное проведение экспериментов. Для этого мы применяем метод A/B–тестирования. В ходе тестирования одной гипотезы целевой группе была предложена новая механика оплаты услуг на сайте, у контрольной группы оставалась базовая механика. В качестве задания Вам необходимо проанализировать итоги эксперимента и сделать вывод, стоит ли запускать новую механику оплаты на всех пользователей.\n",
    "\n",
    "### 1.2 Входные данные\n",
    "\n",
    "В качестве входных данных Вы имеете 4 csv-файла:\n",
    "\n",
    "groups.csv - файл с информацией о принадлежности пользователя к контрольной или экспериментальной группе (А – контроль, B – целевая группа) \n",
    "\n",
    "groups_add.csv - дополнительный файл с пользователями, который вам прислали спустя 2 дня после передачи данных\n",
    "\n",
    "active_studs.csv - файл с информацией о пользователях, которые зашли на платформу в дни проведения эксперимента. \n",
    "\n",
    "checks.csv - файл с информацией об оплатах пользователей в дни проведения эксперимента. \n",
    "\n",
    "### 1.3 Вопросы\n",
    "\n",
    "Предлагаем Вам ответить на следующие вопросы:\n",
    "\n",
    "На какие метрики Вы смотрите в ходе анализа и почему?\n",
    "Имеются ли различия в показателях и с чем они могут быть связаны?\n",
    "Являются ли эти различия статистически значимыми?\n",
    "Стоит ли запускать новую механику на всех пользователей?\n",
    "Данный список вопросов не является обязательным, и Вы можете при своём ответе опираться на собственный план.\n",
    "\n",
    "### 1.4 Требования к ответу\n",
    "\n",
    "При выполнении тестового задания необходимо использовать язык программирования Python. \n",
    "В файле обязательно должны быть комментарии к тем действиям, которые Вы выполняете с данными. \n",
    "Файл должен представлять собой законченный отчёт с выводами, сделанными в ходе исследования.\n"
   ]
  },
  {
   "cell_type": "code",
   "execution_count": 1,
   "id": "b11c8778",
   "metadata": {},
   "outputs": [],
   "source": [
    "import pandas as pd\n",
    "import requests\n",
    "from urllib.parse import urlencode\n",
    "import json\n",
    "import matplotlib.pyplot as plt\n",
    "from scipy.stats import norm\n",
    "import numpy as np\n",
    "from tqdm.auto import tqdm\n",
    "import seaborn as sns\n",
    "from scipy import stats\n",
    "plt.style.use('ggplot')\n"
   ]
  },
  {
   "cell_type": "markdown",
   "id": "63910d20",
   "metadata": {},
   "source": [
    "## Импорт данных"
   ]
  },
  {
   "cell_type": "code",
   "execution_count": 2,
   "id": "348f89be",
   "metadata": {},
   "outputs": [],
   "source": [
    "# счивание .csv файлов с Яндекс диска\n",
    "base_url = 'https://cloud-api.yandex.net/v1/disk/public/resources/download?'\n",
    "public_key_groups = 'https://disk.yandex.ru/d/58Us0DWOzuWAjg'\n",
    "public_key_active_studs = 'https://disk.yandex.ru/d/prbgU-rZpiXVYg'\n",
    "public_key_checks = 'https://disk.yandex.ru/d/84hTmELphW2sqQ'\n",
    "final_url_groups = base_url + urlencode(dict(public_key=public_key_groups))  # формирование url\n",
    "response_groups = requests.get(final_url_groups)  # запрос на извлечение данных по указанному url\n",
    "download_url_groups = json.loads(response_groups.text)['href']  # парсинг данных\n",
    "groups = pd.read_csv(download_url_groups, sep=';')  # считывание данных в формате dataframe\n",
    "final_url_active_studs = base_url + urlencode(dict(public_key=public_key_active_studs))\n",
    "response_active_studs = requests.get(final_url_active_studs)\n",
    "download_url_active_studs = json.loads(response_active_studs.text)['href']\n",
    "active_studs = pd.read_csv(download_url_active_studs, sep=';')\n",
    "final_url_checks = base_url + urlencode(dict(public_key=public_key_checks))\n",
    "response_checks = requests.get(final_url_checks)\n",
    "download_url_checks = json.loads(response_checks.text)['href']\n",
    "checks = pd.read_csv(download_url_checks, sep=';')"
   ]
  },
  {
   "cell_type": "code",
   "execution_count": 3,
   "id": "172d4877",
   "metadata": {},
   "outputs": [],
   "source": [
    "# для удабства использования циклов завел Кортежи\n",
    "df_list = (groups, active_studs, checks)\n",
    "name_list = ('groups', 'active_studs', 'checks')"
   ]
  },
  {
   "cell_type": "code",
   "execution_count": 4,
   "id": "f764b839",
   "metadata": {},
   "outputs": [
    {
     "name": "stdout",
     "output_type": "stream",
     "text": [
      "groups\n",
      "     id grp\n",
      "0  1489   B\n",
      "1  1627   A\n",
      "2  1768   B\n",
      "\n",
      "active_studs\n",
      "   student_id\n",
      "0      581585\n",
      "1     5723133\n",
      "2     3276743\n",
      "\n",
      "checks\n",
      "   student_id    rev\n",
      "0        1627  990.0\n",
      "1        3185  690.0\n",
      "2       25973  690.0\n",
      "\n"
     ]
    }
   ],
   "source": [
    "# посмотрим наши данные\n",
    "for i in range(len(df_list)):\n",
    "    print(name_list[i])\n",
    "    print(df_list[i].head(3))\n",
    "    print()"
   ]
  },
  {
   "cell_type": "code",
   "execution_count": 5,
   "id": "8e825d6a",
   "metadata": {},
   "outputs": [
    {
     "name": "stdout",
     "output_type": "stream",
     "text": [
      "groups (74484, 2)\n",
      "\n",
      "active_studs (8341, 1)\n",
      "\n",
      "checks (541, 2)\n",
      "\n"
     ]
    }
   ],
   "source": [
    "# посмотрим количество данных\n",
    "for i in range(len(df_list)):\n",
    "    print(name_list[i], df_list[i].shape)\n",
    "    print()"
   ]
  },
  {
   "cell_type": "code",
   "execution_count": 6,
   "id": "0619bbaa",
   "metadata": {},
   "outputs": [
    {
     "name": "stdout",
     "output_type": "stream",
     "text": [
      "groups id     0\n",
      "grp    0\n",
      "dtype: int64\n",
      "\n",
      "active_studs student_id    0\n",
      "dtype: int64\n",
      "\n",
      "checks student_id    0\n",
      "rev           0\n",
      "dtype: int64\n",
      "\n"
     ]
    }
   ],
   "source": [
    "# посмотрим количество пропущенных значений\n",
    "for i in range(len(df_list)):\n",
    "    print(name_list[i], df_list[i].isna().sum())\n",
    "    print()"
   ]
  },
  {
   "cell_type": "code",
   "execution_count": 7,
   "id": "cd023390",
   "metadata": {},
   "outputs": [
    {
     "name": "stdout",
     "output_type": "stream",
     "text": [
      "groups 0\n",
      "\n",
      "active_studs 0\n",
      "\n",
      "checks 0\n",
      "\n"
     ]
    }
   ],
   "source": [
    "# посмотрим количество дубликатов\n",
    "for i in range(len(df_list)):\n",
    "    print(name_list[i], df_list[i].duplicated().sum())\n",
    "    print()"
   ]
  },
  {
   "cell_type": "code",
   "execution_count": 8,
   "id": "ed1339d9",
   "metadata": {},
   "outputs": [
    {
     "name": "stdout",
     "output_type": "stream",
     "text": [
      "groups\n",
      "B    80.303152\n",
      "A    19.696848\n",
      "Name: grp, dtype: float64\n",
      "\n"
     ]
    }
   ],
   "source": [
    "# посмотрим посмотрим распределение по группам в первом и во втором файле\n",
    "for i in range(len(df_list) - 2):\n",
    "    print(name_list[i])\n",
    "    print(df_list[i].grp.value_counts() / df_list[i].shape[0] * 100)\n",
    "    print()"
   ]
  },
  {
   "cell_type": "markdown",
   "id": "1a10d3cc",
   "metadata": {},
   "source": [
    "## Обьеденим таблицы для анализа. "
   ]
  },
  {
   "cell_type": "code",
   "execution_count": 9,
   "id": "6cb602fe",
   "metadata": {},
   "outputs": [],
   "source": [
    "# Переименуем колонку student_id в id\n",
    "active_studs.rename(columns={'student_id': 'id'}, inplace=True)\n",
    "checks.rename(columns={'student_id': 'id'}, inplace=True)"
   ]
  },
  {
   "cell_type": "code",
   "execution_count": 10,
   "id": "485f73f2",
   "metadata": {},
   "outputs": [],
   "source": [
    "# Создадим новую таблицу для ARPPU с пользователями, которые совершили покупки во время проведения эксперимента \n",
    "active_checks = checks.merge(active_studs, how='left', on='id')"
   ]
  },
  {
   "cell_type": "code",
   "execution_count": 11,
   "id": "868c3db2",
   "metadata": {},
   "outputs": [
    {
     "data": {
      "text/plain": [
       "(541, 2)"
      ]
     },
     "execution_count": 11,
     "metadata": {},
     "output_type": "execute_result"
    }
   ],
   "source": [
    "active_checks.shape"
   ]
  },
  {
   "cell_type": "code",
   "execution_count": 12,
   "id": "ff7c894a",
   "metadata": {},
   "outputs": [],
   "source": [
    "active_checks = active_checks.merge(groups, how='left', on='id')"
   ]
  },
  {
   "cell_type": "code",
   "execution_count": 13,
   "id": "0d4c8e29",
   "metadata": {},
   "outputs": [
    {
     "data": {
      "text/plain": [
       "(541, 3)"
      ]
     },
     "execution_count": 13,
     "metadata": {},
     "output_type": "execute_result"
    }
   ],
   "source": [
    "active_checks.shape"
   ]
  },
  {
   "cell_type": "code",
   "execution_count": 14,
   "id": "99a877b6",
   "metadata": {},
   "outputs": [
    {
     "data": {
      "text/html": [
       "<div>\n",
       "<style scoped>\n",
       "    .dataframe tbody tr th:only-of-type {\n",
       "        vertical-align: middle;\n",
       "    }\n",
       "\n",
       "    .dataframe tbody tr th {\n",
       "        vertical-align: top;\n",
       "    }\n",
       "\n",
       "    .dataframe thead th {\n",
       "        text-align: right;\n",
       "    }\n",
       "</style>\n",
       "<table border=\"1\" class=\"dataframe\">\n",
       "  <thead>\n",
       "    <tr style=\"text-align: right;\">\n",
       "      <th></th>\n",
       "      <th>id</th>\n",
       "      <th>rev</th>\n",
       "      <th>grp</th>\n",
       "    </tr>\n",
       "  </thead>\n",
       "  <tbody>\n",
       "    <tr>\n",
       "      <th>0</th>\n",
       "      <td>1627</td>\n",
       "      <td>990.0</td>\n",
       "      <td>A</td>\n",
       "    </tr>\n",
       "    <tr>\n",
       "      <th>1</th>\n",
       "      <td>3185</td>\n",
       "      <td>690.0</td>\n",
       "      <td>B</td>\n",
       "    </tr>\n",
       "  </tbody>\n",
       "</table>\n",
       "</div>"
      ],
      "text/plain": [
       "     id    rev grp\n",
       "0  1627  990.0   A\n",
       "1  3185  690.0   B"
      ]
     },
     "execution_count": 14,
     "metadata": {},
     "output_type": "execute_result"
    }
   ],
   "source": [
    "active_checks.head(2)"
   ]
  },
  {
   "cell_type": "markdown",
   "id": "6f71eed0",
   "metadata": {},
   "source": [
    "## Далее я беру данные только активных пользователей за время эксперимента,\n",
    "## чтобы исключить действия сезонности и возможного влияния других экспериментов.\n"
   ]
  },
  {
   "cell_type": "code",
   "execution_count": 15,
   "id": "d6b451a8",
   "metadata": {},
   "outputs": [],
   "source": [
    "# Создадим таблицу с пользователями, которые были активны во время эксперимента, \n",
    "# пропуски будут говорить об отсутствии покупки.\n",
    "checks_active_studs = active_studs.merge(checks, how='left', on='id')"
   ]
  },
  {
   "cell_type": "code",
   "execution_count": 16,
   "id": "50e8eece",
   "metadata": {},
   "outputs": [
    {
     "data": {
      "text/html": [
       "<div>\n",
       "<style scoped>\n",
       "    .dataframe tbody tr th:only-of-type {\n",
       "        vertical-align: middle;\n",
       "    }\n",
       "\n",
       "    .dataframe tbody tr th {\n",
       "        vertical-align: top;\n",
       "    }\n",
       "\n",
       "    .dataframe thead th {\n",
       "        text-align: right;\n",
       "    }\n",
       "</style>\n",
       "<table border=\"1\" class=\"dataframe\">\n",
       "  <thead>\n",
       "    <tr style=\"text-align: right;\">\n",
       "      <th></th>\n",
       "      <th>id</th>\n",
       "      <th>rev</th>\n",
       "    </tr>\n",
       "  </thead>\n",
       "  <tbody>\n",
       "    <tr>\n",
       "      <th>0</th>\n",
       "      <td>581585</td>\n",
       "      <td>NaN</td>\n",
       "    </tr>\n",
       "    <tr>\n",
       "      <th>1</th>\n",
       "      <td>5723133</td>\n",
       "      <td>NaN</td>\n",
       "    </tr>\n",
       "  </tbody>\n",
       "</table>\n",
       "</div>"
      ],
      "text/plain": [
       "        id  rev\n",
       "0   581585  NaN\n",
       "1  5723133  NaN"
      ]
     },
     "execution_count": 16,
     "metadata": {},
     "output_type": "execute_result"
    }
   ],
   "source": [
    "checks_active_studs.head(2)"
   ]
  },
  {
   "cell_type": "code",
   "execution_count": 17,
   "id": "c7ffcc77",
   "metadata": {},
   "outputs": [
    {
     "data": {
      "text/plain": [
       "(8341, 2)"
      ]
     },
     "execution_count": 17,
     "metadata": {},
     "output_type": "execute_result"
    }
   ],
   "source": [
    "checks_active_studs.shape"
   ]
  },
  {
   "cell_type": "code",
   "execution_count": 18,
   "id": "a1bbda01",
   "metadata": {},
   "outputs": [],
   "source": [
    "# Заменим пропуски (где не совершались покупки) нулями.\n",
    "checks_active_studs = checks_active_studs.fillna(0)"
   ]
  },
  {
   "cell_type": "code",
   "execution_count": 19,
   "id": "c3662852",
   "metadata": {},
   "outputs": [],
   "source": [
    "# Создадим новую колонку в которой 1 = покупка, а 0 = отсутствие покупки.\n",
    "checks_active_studs['purchase'] = checks_active_studs.rev.apply(lambda x: 1 if x != 0 else 0)"
   ]
  },
  {
   "cell_type": "code",
   "execution_count": 20,
   "id": "b45f5d84",
   "metadata": {},
   "outputs": [
    {
     "data": {
      "text/plain": [
       "(8341, 3)"
      ]
     },
     "execution_count": 20,
     "metadata": {},
     "output_type": "execute_result"
    }
   ],
   "source": [
    "checks_active_studs.shape"
   ]
  },
  {
   "cell_type": "code",
   "execution_count": 21,
   "id": "08ad0a16",
   "metadata": {},
   "outputs": [
    {
     "data": {
      "text/html": [
       "<div>\n",
       "<style scoped>\n",
       "    .dataframe tbody tr th:only-of-type {\n",
       "        vertical-align: middle;\n",
       "    }\n",
       "\n",
       "    .dataframe tbody tr th {\n",
       "        vertical-align: top;\n",
       "    }\n",
       "\n",
       "    .dataframe thead th {\n",
       "        text-align: right;\n",
       "    }\n",
       "</style>\n",
       "<table border=\"1\" class=\"dataframe\">\n",
       "  <thead>\n",
       "    <tr style=\"text-align: right;\">\n",
       "      <th></th>\n",
       "      <th>id</th>\n",
       "      <th>rev</th>\n",
       "      <th>purchase</th>\n",
       "    </tr>\n",
       "  </thead>\n",
       "  <tbody>\n",
       "    <tr>\n",
       "      <th>0</th>\n",
       "      <td>581585</td>\n",
       "      <td>0.0</td>\n",
       "      <td>0</td>\n",
       "    </tr>\n",
       "    <tr>\n",
       "      <th>1</th>\n",
       "      <td>5723133</td>\n",
       "      <td>0.0</td>\n",
       "      <td>0</td>\n",
       "    </tr>\n",
       "    <tr>\n",
       "      <th>2</th>\n",
       "      <td>3276743</td>\n",
       "      <td>0.0</td>\n",
       "      <td>0</td>\n",
       "    </tr>\n",
       "  </tbody>\n",
       "</table>\n",
       "</div>"
      ],
      "text/plain": [
       "        id  rev  purchase\n",
       "0   581585  0.0         0\n",
       "1  5723133  0.0         0\n",
       "2  3276743  0.0         0"
      ]
     },
     "execution_count": 21,
     "metadata": {},
     "output_type": "execute_result"
    }
   ],
   "source": [
    "checks_active_studs.head(3)"
   ]
  },
  {
   "cell_type": "code",
   "execution_count": null,
   "id": "6b7ef8c6",
   "metadata": {},
   "outputs": [],
   "source": []
  },
  {
   "cell_type": "code",
   "execution_count": 22,
   "id": "57fc5fa5",
   "metadata": {},
   "outputs": [],
   "source": [
    "# Добавим данные принадлежности к группам в таблицу с пользователями с покупками.\n",
    "active_groups_checks = checks_active_studs.merge(groups, how='inner', on='id')"
   ]
  },
  {
   "cell_type": "code",
   "execution_count": 23,
   "id": "f0bcc895",
   "metadata": {},
   "outputs": [
    {
     "data": {
      "text/plain": [
       "(8328, 4)"
      ]
     },
     "execution_count": 23,
     "metadata": {},
     "output_type": "execute_result"
    }
   ],
   "source": [
    "active_groups_checks.shape"
   ]
  },
  {
   "cell_type": "code",
   "execution_count": 24,
   "id": "3e948693",
   "metadata": {},
   "outputs": [
    {
     "data": {
      "text/html": [
       "<div>\n",
       "<style scoped>\n",
       "    .dataframe tbody tr th:only-of-type {\n",
       "        vertical-align: middle;\n",
       "    }\n",
       "\n",
       "    .dataframe tbody tr th {\n",
       "        vertical-align: top;\n",
       "    }\n",
       "\n",
       "    .dataframe thead th {\n",
       "        text-align: right;\n",
       "    }\n",
       "</style>\n",
       "<table border=\"1\" class=\"dataframe\">\n",
       "  <thead>\n",
       "    <tr style=\"text-align: right;\">\n",
       "      <th></th>\n",
       "      <th>id</th>\n",
       "      <th>rev</th>\n",
       "      <th>purchase</th>\n",
       "      <th>grp</th>\n",
       "    </tr>\n",
       "  </thead>\n",
       "  <tbody>\n",
       "    <tr>\n",
       "      <th>0</th>\n",
       "      <td>581585</td>\n",
       "      <td>0.0</td>\n",
       "      <td>0</td>\n",
       "      <td>A</td>\n",
       "    </tr>\n",
       "    <tr>\n",
       "      <th>1</th>\n",
       "      <td>3276743</td>\n",
       "      <td>0.0</td>\n",
       "      <td>0</td>\n",
       "      <td>B</td>\n",
       "    </tr>\n",
       "  </tbody>\n",
       "</table>\n",
       "</div>"
      ],
      "text/plain": [
       "        id  rev  purchase grp\n",
       "0   581585  0.0         0   A\n",
       "1  3276743  0.0         0   B"
      ]
     },
     "execution_count": 24,
     "metadata": {},
     "output_type": "execute_result"
    }
   ],
   "source": [
    "active_groups_checks.head(2)"
   ]
  },
  {
   "cell_type": "code",
   "execution_count": 25,
   "id": "b8bdb1d8",
   "metadata": {},
   "outputs": [
    {
     "name": "stdout",
     "output_type": "stream",
     "text": [
      "B    81.568204\n",
      "A    18.431796\n",
      "Name: grp, dtype: float64\n"
     ]
    }
   ],
   "source": [
    "# посмотрим посмотрим распределение контрольных и целевых групп\n",
    "print(active_groups_checks.grp.value_counts() / active_groups_checks.shape[0] * 100)"
   ]
  },
  {
   "cell_type": "code",
   "execution_count": 26,
   "id": "9603bcb8",
   "metadata": {},
   "outputs": [
    {
     "name": "stdout",
     "output_type": "stream",
     "text": [
      "B    6793\n",
      "A    1535\n",
      "Name: grp, dtype: int64\n"
     ]
    }
   ],
   "source": [
    "# посмотрим посмотрим распределение контрольных и целевых групп\n",
    "print(active_groups_checks.grp.value_counts())"
   ]
  },
  {
   "cell_type": "markdown",
   "id": "a39781a6",
   "metadata": {},
   "source": [
    "# Для анализа я из метрик выбрал конверсию в покупку , средний чек и ARPPU.\n",
    "# Это наиболее интересные целевые метрики\n",
    "CR (Conversion rate) - коэффициент конверсии, характеризующий соотношение покупающих пользователей ко всем активным в период эксперимента.\n",
    "\n",
    "ARPPU (Average Revenue Per Paying User) - средний доход, который приносит платящий пользователь."
   ]
  },
  {
   "cell_type": "markdown",
   "id": "296aee7e",
   "metadata": {},
   "source": [
    "## Посмотрим на распределение покупок в тестовой и контрольной группе."
   ]
  },
  {
   "cell_type": "code",
   "execution_count": 27,
   "id": "13526ecc",
   "metadata": {
    "scrolled": true
   },
   "outputs": [
    {
     "name": "stdout",
     "output_type": "stream",
     "text": [
      "Контрольная группа \"A\"\n",
      "                 id          rev     purchase\n",
      "count  1.535000e+03  1535.000000  1535.000000\n",
      "mean   2.448344e+06    47.439739     0.050814\n",
      "std    1.584452e+06   290.766992     0.219690\n",
      "min    1.627000e+03     0.000000     0.000000\n",
      "25%    1.116413e+06     0.000000     0.000000\n",
      "50%    2.070805e+06     0.000000     0.000000\n",
      "75%    3.725562e+06     0.000000     0.000000\n",
      "max    5.690284e+06  3660.000000     1.000000\n",
      "Целевая группа \"B\"\n",
      "                 id          rev     purchase\n",
      "count  6.793000e+03  6793.000000  6793.000000\n",
      "mean   2.442220e+06    57.864567     0.046077\n",
      "std    1.555338e+06   313.197487     0.209667\n",
      "min    2.085000e+03     0.000000     0.000000\n",
      "25%    1.118614e+06     0.000000     0.000000\n",
      "50%    2.088960e+06     0.000000     0.000000\n",
      "75%    3.611806e+06     0.000000     0.000000\n",
      "max    5.689627e+06  4650.000000     1.000000\n"
     ]
    }
   ],
   "source": [
    "# посмотрим статистики по группам\n",
    "print('Контрольная группа \"A\"')\n",
    "print(active_groups_checks[active_groups_checks.grp == 'A'].describe())\n",
    "print('Целевая группа \"B\"')\n",
    "print(active_groups_checks[active_groups_checks.grp == 'B'].describe())"
   ]
  },
  {
   "cell_type": "code",
   "execution_count": 28,
   "id": "9b87b815",
   "metadata": {},
   "outputs": [
    {
     "data": {
      "image/png": "[encoded data removed]",
      "text/plain": [
       "<Figure size 1440x720 with 1 Axes>"
      ]
     },
     "metadata": {},
     "output_type": "display_data"
    }
   ],
   "source": [
    "# боксплот распределения покупок по группам среди всех пользователей\n",
    "plt.figure(figsize=(20, 10))\n",
    "sns.boxplot(x='grp', y='rev', data=active_groups_checks.query('rev!=0'))\n",
    "plt.xlabel('Groups')\n",
    "plt.ylabel('Revenue')\n",
    "plt.title(\"Group purchases\")\n",
    "plt.show()"
   ]
  },
  {
   "cell_type": "markdown",
   "id": "14cee39e",
   "metadata": {},
   "source": [
    "Из графиков боксплот мы видим, что в наших данных есть выбросы, значит применение Т-критерия будет не правильным \n",
    "(Т-критерий сравнивает средние в распределениях, а выбросы сильно влияют на значение среднего). \n",
    "\n",
    "Удалять выбросы неправильно, т.к. мы удалим из анализа так называемых КИТОВ.\n",
    "\n",
    "Так же из-за выбросов сравнение средних в наших выборках будет не корректно. \n"
   ]
  },
  {
   "cell_type": "code",
   "execution_count": 29,
   "id": "36ec4b4f",
   "metadata": {},
   "outputs": [
    {
     "data": {
      "image/png": "[encoded data removed]",
      "text/plain": [
       "<Figure size 1440x720 with 1 Axes>"
      ]
     },
     "metadata": {},
     "output_type": "display_data"
    }
   ],
   "source": [
    "# посмотрим распределения покупкак среди покупающих пользователей\n",
    "plt.figure(figsize=(20, 10))\n",
    "sns.histplot(x='rev', data=checks)\n",
    "plt.xlabel('Revenue')\n",
    "plt.ylabel('Count')\n",
    "plt.title(\"Histogram of revenue\")\n",
    "plt.show()"
   ]
  },
  {
   "cell_type": "code",
   "execution_count": 30,
   "id": "d462d8d1",
   "metadata": {},
   "outputs": [
    {
     "data": {
      "image/png": "[encoded data removed]",
      "text/plain": [
       "<Figure size 1440x720 with 1 Axes>"
      ]
     },
     "metadata": {},
     "output_type": "display_data"
    }
   ],
   "source": [
    "# построение распределения данных групп о покупках среди покупающих пользователей\n",
    "plt.figure(figsize=(20, 10))\n",
    "sns.histplot(x=active_checks.rev, hue=active_checks.grp)\n",
    "plt.xlabel('Revenue')\n",
    "plt.ylabel('Count')\n",
    "plt.title(\"Histogram of revenue by groups\")\n",
    "plt.show()"
   ]
  },
  {
   "cell_type": "markdown",
   "id": "94cb0ff0",
   "metadata": {},
   "source": [
    "### Из графиков мы видим, что наши распределения далеки от нормальных, а значит применение Т-теста недопустимо.\n",
    "### Можно было логарифмировать наши данные и наши распределения стали бы похожи на нормальные, но это приведет к трудностям в интерпретации для бизнеса. По этой же причине я не стал применять непараметрический U-критерий Манна — Уитни.\n",
    "### В данной ситуации считаю оптимальным применение Бутсрапа. \n"
   ]
  },
  {
   "cell_type": "code",
   "execution_count": null,
   "id": "2b13bc06",
   "metadata": {},
   "outputs": [],
   "source": []
  },
  {
   "cell_type": "markdown",
   "id": "f56f2e2f",
   "metadata": {},
   "source": [
    "## Воспользуемся бутсрапом для сравнения средних"
   ]
  },
  {
   "cell_type": "code",
   "execution_count": 31,
   "id": "8e4d16e6",
   "metadata": {},
   "outputs": [],
   "source": [
    "def get_bootstrap(\n",
    "        data_column_1,  # числовые значения первой выборки\n",
    "        data_column_2,  # числовые значения второй выборки\n",
    "        boot_it=1000,  # количество бутстрэп-подвыборок\n",
    "        statistic=np.median,  # интересующая нас статистика\n",
    "        bootstrap_conf_level=0.99):  # уровень значимости\n",
    "    boot_len = max([len(data_column_1), len(data_column_2)])\n",
    "    boot_data = []\n",
    "    for i in tqdm(range(boot_it)):  # извлекаем подвыборки\n",
    "        samples_1 = data_column_1.sample(\n",
    "            boot_len,\n",
    "            replace=True  # параметр возвращения\n",
    "        ).values\n",
    "        samples_2 = data_column_2.sample(\n",
    "            boot_len,\n",
    "            replace=True\n",
    "        ).values\n",
    "        boot_data.append(statistic(samples_2 - samples_1))  # применяем статистику\n",
    "    pd_boot_data = pd.DataFrame(boot_data)\n",
    "    left_quant = (1 - bootstrap_conf_level) / 2\n",
    "    right_quant = 1 - (1 - bootstrap_conf_level) / 2\n",
    "    ci = pd_boot_data.quantile([left_quant, right_quant])\n",
    "    p_1 = norm.cdf(\n",
    "        x=0,\n",
    "        loc=np.mean(boot_data),\n",
    "        scale=np.std(boot_data)\n",
    "    )\n",
    "    p_2 = norm.cdf(\n",
    "        x=0,\n",
    "        loc=-np.mean(boot_data),\n",
    "        scale=np.std(boot_data)\n",
    "    )\n",
    "    p_value = min(p_1, p_2) * 2\n",
    "    #  Визуализация\n",
    "    plt.figure(figsize=(20, 10))\n",
    "    #  plt.hist()\n",
    "    sns.histplot(x=pd_boot_data[0], bins=50)\n",
    "    #  plt.style.use('ggplot')    \n",
    "    plt.vlines(ci, ymin=0, ymax=50, linestyle='--')\n",
    "    plt.xlabel('boot_data')\n",
    "    plt.ylabel('frequency')\n",
    "    plt.title(\"Histogram of boot_data\")\n",
    "    plt.show()\n",
    "    return {\"boot_data\": boot_data,\n",
    "            \"ci\": ci,\n",
    "            \"p_value\": p_value}"
   ]
  },
  {
   "cell_type": "code",
   "execution_count": 32,
   "id": "778b6a1e",
   "metadata": {},
   "outputs": [
    {
     "name": "stderr",
     "output_type": "stream",
     "text": [
      "100%|██████████| 10000/10000 [00:03<00:00, 2860.45it/s]\n"
     ]
    },
    {
     "data": {
      "image/png": "[encoded data removed]",
      "text/plain": [
       "<Figure size 1440x720 with 1 Axes>"
      ]
     },
     "metadata": {},
     "output_type": "display_data"
    }
   ],
   "source": [
    "booted_data = get_bootstrap(\n",
    "    active_groups_checks[active_groups_checks.grp == \"B\"].rev,  # числовые значения первой выборки\n",
    "    active_groups_checks[active_groups_checks.grp == \"A\"].rev,  # числовые значения второй выборки\n",
    "    boot_it=10000,  # количество бутстрэп-подвыборок\n",
    "    statistic=np.mean,  # интересующая нас статистика\n",
    "    bootstrap_conf_level=0.95)  # уровень значимости"
   ]
  },
  {
   "cell_type": "code",
   "execution_count": 33,
   "id": "7bb0042d",
   "metadata": {
    "scrolled": true
   },
   "outputs": [
    {
     "data": {
      "text/plain": [
       "0.04212256017079955"
      ]
     },
     "execution_count": 33,
     "metadata": {},
     "output_type": "execute_result"
    }
   ],
   "source": [
    "booted_data['p_value']"
   ]
  },
  {
   "cell_type": "markdown",
   "id": "930aefa5",
   "metadata": {},
   "source": [
    "### p-value > 0.01 не отклоняем Н0 о равенстве средних в группах"
   ]
  },
  {
   "cell_type": "markdown",
   "id": "588d568f",
   "metadata": {},
   "source": [
    "## Воспользуемся бутсрапом для сравнения ARPPU"
   ]
  },
  {
   "cell_type": "code",
   "execution_count": 34,
   "id": "2eedd5a8",
   "metadata": {},
   "outputs": [
    {
     "name": "stderr",
     "output_type": "stream",
     "text": [
      "100%|██████████| 10000/10000 [00:01<00:00, 5058.43it/s]\n"
     ]
    },
    {
     "data": {
      "image/png": "[encoded data removed]",
      "text/plain": [
       "<Figure size 1440x720 with 1 Axes>"
      ]
     },
     "metadata": {},
     "output_type": "display_data"
    }
   ],
   "source": [
    "booted_data = get_bootstrap(\n",
    "    active_checks[active_checks.grp == \"B\"].rev,  # числовые значения первой выборки\n",
    "    active_checks[active_checks.grp == \"A\"].rev,  # числовые значения второй выборки\n",
    "    boot_it=10000,  # количество бутстрэп-подвыборок\n",
    "    statistic=np.median,  # интересующая нас статистика\n",
    "    bootstrap_conf_level=0.95)  # уровень значимости"
   ]
  },
  {
   "cell_type": "code",
   "execution_count": 35,
   "id": "6e584d3a",
   "metadata": {},
   "outputs": [
    {
     "data": {
      "text/plain": [
       "0.0008421938839976403"
      ]
     },
     "execution_count": 35,
     "metadata": {},
     "output_type": "execute_result"
    }
   ],
   "source": [
    "booted_data['p_value']"
   ]
  },
  {
   "cell_type": "code",
   "execution_count": 36,
   "id": "68c170f7",
   "metadata": {},
   "outputs": [
    {
     "data": {
      "text/html": [
       "<div>\n",
       "<style scoped>\n",
       "    .dataframe tbody tr th:only-of-type {\n",
       "        vertical-align: middle;\n",
       "    }\n",
       "\n",
       "    .dataframe tbody tr th {\n",
       "        vertical-align: top;\n",
       "    }\n",
       "\n",
       "    .dataframe thead th {\n",
       "        text-align: right;\n",
       "    }\n",
       "</style>\n",
       "<table border=\"1\" class=\"dataframe\">\n",
       "  <thead>\n",
       "    <tr style=\"text-align: right;\">\n",
       "      <th></th>\n",
       "      <th>0</th>\n",
       "    </tr>\n",
       "  </thead>\n",
       "  <tbody>\n",
       "    <tr>\n",
       "      <th>0.025</th>\n",
       "      <td>-400.0</td>\n",
       "    </tr>\n",
       "    <tr>\n",
       "      <th>0.975</th>\n",
       "      <td>-108.0</td>\n",
       "    </tr>\n",
       "  </tbody>\n",
       "</table>\n",
       "</div>"
      ],
      "text/plain": [
       "           0\n",
       "0.025 -400.0\n",
       "0.975 -108.0"
      ]
     },
     "execution_count": 36,
     "metadata": {},
     "output_type": "execute_result"
    }
   ],
   "source": [
    "\n",
    "booted_data['ci']"
   ]
  },
  {
   "cell_type": "markdown",
   "id": "6ed7d410",
   "metadata": {},
   "source": [
    "### Бутстрап показал p > 0,01 , 0 не входит в доверительный интервал, значит  мы НЕ принимаем нулевую гипотезу о том, что ARPPU в группах A и B не отличается."
   ]
  },
  {
   "cell_type": "markdown",
   "id": "7e9db9fe",
   "metadata": {},
   "source": [
    "## Посчитаем по группам ARPPU"
   ]
  },
  {
   "cell_type": "code",
   "execution_count": 37,
   "id": "8abd7678",
   "metadata": {},
   "outputs": [
    {
     "name": "stdout",
     "output_type": "stream",
     "text": [
      "ARPPU груп А 860.7102803738318\n",
      "ARPPU груп B 1106.9976988452656\n"
     ]
    }
   ],
   "source": [
    "print('ARPPU груп А', (active_checks.query('grp == \"A\"').rev.sum()) / (active_checks.query('grp == \"A\"').id.nunique()))\n",
    "print('ARPPU груп B', (active_checks.query('grp == \"B\"').rev.sum()) / (active_checks.query('grp == \"B\"').id.nunique()))"
   ]
  },
  {
   "cell_type": "code",
   "execution_count": 38,
   "id": "d8e046c5",
   "metadata": {},
   "outputs": [
    {
     "name": "stdout",
     "output_type": "stream",
     "text": [
      "ARPPU целевой группы больше на 28.6 %\n"
     ]
    }
   ],
   "source": [
    "# посчитаем на сколько процентов различается ARPPU\n",
    "A_ARPPU = active_checks.query('grp == \"A\"').rev.sum() / active_checks.query('grp == \"A\"').id.nunique()\n",
    "B_ARPPU = active_checks.query('grp == \"B\"').rev.sum() / active_checks.query('grp == \"B\"').id.nunique()\n",
    "print('ARPPU целевой группы больше на', round(((B_ARPPU - A_ARPPU) / A_ARPPU * 100), 1), '%')"
   ]
  },
  {
   "cell_type": "markdown",
   "id": "3c055fc2",
   "metadata": {},
   "source": [
    "## Посмотрим на конверсию в наших группах"
   ]
  },
  {
   "cell_type": "code",
   "execution_count": 39,
   "id": "5bbe690d",
   "metadata": {},
   "outputs": [
    {
     "data": {
      "text/plain": [
       "grp\n",
       "A    0.053535\n",
       "B    0.048302\n",
       "dtype: float64"
      ]
     },
     "execution_count": 39,
     "metadata": {},
     "output_type": "execute_result"
    }
   ],
   "source": [
    "conv_table = pd.crosstab(active_groups_checks.grp, active_groups_checks.purchase)\n",
    "conv_table[1] / conv_table[0]"
   ]
  },
  {
   "cell_type": "markdown",
   "id": "5469cbd8",
   "metadata": {},
   "source": [
    "## Мы видим разницу в конверсии по группам. "
   ]
  },
  {
   "cell_type": "code",
   "execution_count": 40,
   "id": "22806bfe",
   "metadata": {},
   "outputs": [
    {
     "data": {
      "image/png": "[encoded data removed]",
      "text/plain": [
       "<Figure size 1440x720 with 1 Axes>"
      ]
     },
     "metadata": {},
     "output_type": "display_data"
    }
   ],
   "source": [
    "# Построим график конверсии\n",
    "plt.figure(figsize=(20, 10))\n",
    "sns.countplot(x=\"purchase\", hue=\"grp\", data=active_groups_checks)\n",
    "plt.show()"
   ]
  },
  {
   "cell_type": "markdown",
   "id": "f8043316",
   "metadata": {},
   "source": [
    "###  Проверим зависит ли конверсия от принадлежности к группе.\n",
    "\n",
    "### Т.к. у нас две номенативные переменные  (принадлежность к группе и наличие покупки)  я буду испльзовать ХИ квадрат Пирсона\n",
    "\n",
    "### Н0 - связи между конверсией и групповой принадлежностью нет"
   ]
  },
  {
   "cell_type": "code",
   "execution_count": 41,
   "id": "6a9b8092",
   "metadata": {},
   "outputs": [
    {
     "name": "stdout",
     "output_type": "stream",
     "text": [
      "p-value = 0.53\n"
     ]
    }
   ],
   "source": [
    "stat, p, dof, expected = stats.chi2_contingency(conv_table)\n",
    "prob = 0.95\n",
    "critical = stats.chi2.ppf(prob, dof)\n",
    "print('p-value =', round(stat, 2)) "
   ]
  },
  {
   "cell_type": "markdown",
   "id": "b199cb0f",
   "metadata": {},
   "source": [
    "### p-value > 0.01 не отклоняем Н0 о том, что связи между конверсиией и принадлежности нет."
   ]
  },
  {
   "cell_type": "code",
   "execution_count": null,
   "id": "3e08b08b",
   "metadata": {},
   "outputs": [],
   "source": []
  },
  {
   "cell_type": "markdown",
   "id": "bb21700a",
   "metadata": {},
   "source": [
    "## Выводы по анализу проведённого А/В теста:\n",
    "### ХИ-квадрат Пирсона для проверки конверсии в покупку, бутсрап для сравнения средних показали отсутствие статистически значимых различий. \n",
    "### Бутсрап для сравнения ARPPU показал, что статистически значимые различия в группах есть.\n",
    "\n",
    "\n",
    "\n",
    "\n",
    "## Т.к.  ARPPU  целевой группы больше на 28.6 % стоит запускать новую механику оплаты на всех пользователей.\n"
   ]
  },
  {
   "cell_type": "markdown",
   "id": "6c3da715",
   "metadata": {},
   "source": [
    "# Задание 2. SQL"
   ]
  },
  {
   "cell_type": "markdown",
   "id": "7b801eae",
   "metadata": {},
   "source": [
    "### 2.1 Очень усердные ученики.\n",
    "\n",
    "2.1.1 Условие\n",
    "\n",
    "Образовательные курсы состоят из различных уроков, каждый из которых состоит из нескольких маленьких заданий. Каждое такое маленькое задание называется \"горошиной\".\n",
    "\n",
    "Назовём очень усердным учеником того пользователя, который хотя бы раз за текущий месяц правильно решил 20 горошин за час.\n"
   ]
  },
  {
   "cell_type": "markdown",
   "id": "18b0cedb",
   "metadata": {},
   "source": [
    "2.1.2 Задача\n",
    "\n",
    "Дана таблица peas:\n",
    "\n",
    "```\n",
    "Название атрибута   |Тип атрибута    |Смысловое значение\n",
    "\n",
    "st_id\t            |int\t         |ID          ученика\n",
    "timest\t            |timestamp       |Время решения карточки\n",
    "correct\t            |bool            |Правильно ли решена горошина?\n",
    "subject\t            |text            |Дисциплина, в которой находится горошина\n",
    "```\n",
    "\n",
    "Необходимо написать оптимальный запрос, который даст информацию о количестве очень усердных студентов за март 2020 года."
   ]
  },
  {
   "cell_type": "markdown",
   "id": "53c7aa44",
   "metadata": {},
   "source": [
    "# Запрос"
   ]
  },
  {
   "cell_type": "code",
   "execution_count": null,
   "id": "f281231a",
   "metadata": {},
   "outputs": [],
   "source": [
    "\n",
    "SELECT \n",
    "    COUNT(DISTINCT st_id)\n",
    "FROM\n",
    "    (\n",
    "    SELECT \n",
    "        st_id,\n",
    "        toDayOfMonth(timest),\n",
    "        toHour(timest),\n",
    "        SUM(correct) AS SUM_correct -- Кол-во правильно решенных горошин\n",
    "    FROM\n",
    "        peas\n",
    "    WHERE\n",
    "        toStartOfMonth(timest) = '2020-03-01' --Фильтруем по интересующей на дате\n",
    "    GROUP BY \n",
    "        st_id,\n",
    "        toDayOfMonth(timest),\n",
    "        toHour(timest)\n",
    "    )\n",
    "WHERE SUM_correct > 19  -- 20 и более правильно решенных горошин\n"
   ]
  },
  {
   "cell_type": "markdown",
   "id": "500f9505",
   "metadata": {},
   "source": [
    "\n",
    "### 2.2 Оптимизация воронки\n",
    "\n",
    "2.2.1 Условие\n",
    "\n",
    "Образовательная платформа предлагает пройти студентам курсы по модели trial: студент может решить бесплатно лишь 30 горошин в день. Для неограниченного количества заданий в определенной дисциплине студенту необходимо приобрести полный доступ. Команда провела эксперимент, где был протестирован новый экран оплаты.\n",
    "\n",
    "2.2.2 Задача\n",
    "\n",
    "Дана таблицы: peas (см. выше), studs:\n",
    "\n",
    "Название атрибута\t|Тип атрибута \t|Смысловое значение\n",
    "\n",
    "st_id\t            |   int \t    |ID ученика\n",
    "test_grp\t        |   text \t    |Метка ученика в данном эксперименте\n",
    "\n",
    "\n",
    "\n",
    "и таблица final_project_check:\n",
    "\n",
    "Название атрибута\t|Тип атрибута \t|Смысловое значение\n",
    "st_id\t            |int \t        |ID ученика\n",
    "sale_time\t        |datatime\t    |Время покупки\n",
    "money\t            |int\t        |Цена, по которой приобрели данный курс\n",
    "subject\t            |text \t        |Дисциплина, на которую приобрели полный доступ\n",
    "\n",
    "\n",
    "\n",
    "Необходимо в одном запросе выгрузить следующую информацию о группах пользователей:\n",
    "\n",
    "ARPU \n",
    "ARPAU \n",
    "CR в покупку \n",
    "СR активного пользователя в покупку \n",
    "CR пользователя из активности по математике (subject = ’math’) в покупку курса по математике\n",
    "Все данные находятся в табличном виде в Clickhouse\n",
    "\n",
    "\n"
   ]
  },
  {
   "cell_type": "markdown",
   "id": "d7731c70",
   "metadata": {},
   "source": [
    "# Запрос"
   ]
  },
  {
   "cell_type": "code",
   "execution_count": null,
   "id": "93b2ea0d",
   "metadata": {},
   "outputs": [],
   "source": [
    "SELECT\n",
    "    test_grp,\n",
    "    SUM(money) / COUNT(a.st_id) AS ARPU,\n",
    "    SUM(money) / COUNT(b.st_id) AS ARPAU,\n",
    "    COUNT(c.st_id) / COUNT(b.st_id) As CR,\n",
    "    --в покупку\n",
    "    COUNT(c.st_id) / COUNT(b.st_id) AS CR_active, \n",
    "    --активного пользователя в покупку\n",
    "    SUM(CASE WHEN subject = ’Math’ THEN 1 ELSE 0 END) / SUM(CASE WHEN d.st_id IS NOT NULL THEN 1 ELSE 0 END) AS CR_active_math\n",
    "    --пользователя из активности по математике (subject = ’math’) в покупку курса по математике\n",
    "FROM\n",
    "    peas AS b \n",
    "LEFT JOIN final_project_check AS c\n",
    "    ON b.st_id = c.st_id\n",
    "LEFT JOIN (\n",
    "            SELECT\n",
    "               DISTINCT st_id\n",
    "            FROM \n",
    "                peas\n",
    "            WHERE\n",
    "                subject = ’Math’\n",
    "        ) AS d\n",
    "    ON b.st_id = d.st_id\n",
    "JOIN studs AS a\n",
    "    ON b.st_id = a.st_id\n",
    "GROUP BY\n",
    "    test_grp"
   ]
  },
  {
   "cell_type": "markdown",
   "id": "1ecaf275",
   "metadata": {},
   "source": [
    "## Задание 3. Python\n",
    "\n",
    "### 3.1 Задача\n",
    "\n",
    "Реализуйте функцию, которая будет автоматически подгружать информацию из дополнительного файла groups_add.csv (заголовки могут отличаться) и на основании дополнительных параметров пересчитывать метрики.\n",
    "Реализуйте функцию, которая будет строить графики по получаемым метрикам."
   ]
  },
  {
   "cell_type": "code",
   "execution_count": 42,
   "id": "825ffcea",
   "metadata": {},
   "outputs": [],
   "source": [
    "def groups_add(groups, active_studs, checks):\n",
    "    \"\"\"\n",
    "    Функция автоматически подгружает информацию из дополнительного файла groups_add.csv и считает метрики.\n",
    "    \"\"\"\n",
    "    \"\"\" считываем дополнительный фаил \"\"\"  \n",
    "    public_key_groups_add = 'https://disk.yandex.ru/d/3aARY-P9pfaksg'\n",
    "    base_url = 'https://cloud-api.yandex.net/v1/disk/public/resources/download?'\n",
    "    final_url_groups_add = base_url + urlencode(dict(public_key=public_key_groups_add))\n",
    "    response_groups_add = requests.get(final_url_groups_add)\n",
    "    download_url_groups_add = json.loads(response_groups_add.text)['href']\n",
    "    groups_add = pd.read_csv(download_url_groups_add, sep=',')  \n",
    "    \"\"\"Т.к. заголовки таблицы могут отличаться переименуем их в удобные нам названия\"\"\"   \n",
    "    groups_add.rename(columns=({groups_add.columns[0]: 'id', groups_add.columns[1]: 'grp'}), inplace=True)   \n",
    "    \"\"\"Добавим да переименованный датафрейм к датарейму groups\"\"\"\n",
    "    full_groups = groups.append(groups_add)\n",
    "    \"\"\"переименовываем колонки\"\"\"\n",
    "    active_studs.rename(columns={'student_id': 'id'}, inplace=True)\n",
    "    checks.rename(columns={'student_id': 'id'}, inplace=True)\n",
    "    \"\"\"добавляем метку '1' для активных студентов\"\"\"\n",
    "    active_studs['active'] = 1\n",
    "    \"\"\"объединяем датафреймы\"\"\"\n",
    "    full_data = pd.merge(full_groups, active_studs, how='left')\n",
    "    full_data = pd.merge(full_data, checks, how='left')\n",
    "    full_data = full_data.fillna(0)\n",
    "    conv_table = pd.crosstab(active_groups_checks.grp, active_groups_checks.purchase)\n",
    "    \"\"\"считаем метрики\"\"\"\n",
    "    arppu = pd.DataFrame({'grp': ['A', 'B'],\n",
    "                          'ARPPU': [\n",
    "                              full_data.query('grp == \"A\"').rev.sum() / full_data.query('grp == \"A\"').id.nunique(),\n",
    "                              full_data.query('grp == \"B\"').rev.sum() / full_data.query('grp == \"B\"').id.nunique()]})\n",
    "    avg_check = pd.DataFrame({'grp': ['A', 'B'],\n",
    "                              'avg_check': [round(full_data.query('grp == \"A\" & rev > 0').rev.mean(), 1),\n",
    "                                            round(full_data.query('grp == \"B\" & rev > 0').rev.mean(), 1)]})\n",
    "    conversion = pd.DataFrame(conv_table[1] / conv_table[0]) \\\n",
    "        .reset_index() \\\n",
    "        .rename(columns={0: 'cr'})\n",
    "    return {'arppu': arppu,\n",
    "            'avg_check': avg_check,\n",
    "            'conversion': conversion}"
   ]
  },
  {
   "cell_type": "code",
   "execution_count": 43,
   "id": "dd1ef451",
   "metadata": {},
   "outputs": [],
   "source": [
    "metrics = groups_add(groups, checks, active_studs)"
   ]
  },
  {
   "cell_type": "code",
   "execution_count": 44,
   "id": "10a4fc23",
   "metadata": {},
   "outputs": [
    {
     "data": {
      "text/html": [
       "<div>\n",
       "<style scoped>\n",
       "    .dataframe tbody tr th:only-of-type {\n",
       "        vertical-align: middle;\n",
       "    }\n",
       "\n",
       "    .dataframe tbody tr th {\n",
       "        vertical-align: top;\n",
       "    }\n",
       "\n",
       "    .dataframe thead th {\n",
       "        text-align: right;\n",
       "    }\n",
       "</style>\n",
       "<table border=\"1\" class=\"dataframe\">\n",
       "  <thead>\n",
       "    <tr style=\"text-align: right;\">\n",
       "      <th></th>\n",
       "      <th>grp</th>\n",
       "      <th>ARPPU</th>\n",
       "    </tr>\n",
       "  </thead>\n",
       "  <tbody>\n",
       "    <tr>\n",
       "      <th>0</th>\n",
       "      <td>A</td>\n",
       "      <td>6.268019</td>\n",
       "    </tr>\n",
       "    <tr>\n",
       "      <th>1</th>\n",
       "      <td>B</td>\n",
       "      <td>8.036171</td>\n",
       "    </tr>\n",
       "  </tbody>\n",
       "</table>\n",
       "</div>"
      ],
      "text/plain": [
       "  grp     ARPPU\n",
       "0   A  6.268019\n",
       "1   B  8.036171"
      ]
     },
     "execution_count": 44,
     "metadata": {},
     "output_type": "execute_result"
    }
   ],
   "source": [
    "metrics['arppu']"
   ]
  },
  {
   "cell_type": "markdown",
   "id": "f20e3af0",
   "metadata": {},
   "source": [
    "### Реализуем функцию, которая будет строить графики по получаемым метрикам."
   ]
  },
  {
   "cell_type": "code",
   "execution_count": 45,
   "id": "7a3ade4d",
   "metadata": {},
   "outputs": [],
   "source": [
    "def get_graf(metrics):  \n",
    "    \"\"\"функция, которая будет строить графики по получаемым метрикам. \"\"\"       \n",
    "    plt.figure(figsize=(20, 9))\n",
    "    \"\"\" график ARPPU \"\"\"\n",
    "    plt.subplot(1, 3, 1)\n",
    "    bar = sns.barplot(x='grp', y='ARPPU', data=metrics['arppu'])\n",
    "    bar.axes.set_title('ARPPU', fontsize=16)\n",
    "    bar.set_xlabel('Group', fontsize=12)\n",
    "    bar.set_ylabel('ARPPU', fontsize=12)\n",
    "    plt.xticks(fontsize=12)\n",
    "    plt.yticks(fontsize=12) \n",
    "    \"\"\" график  средних AVG \"\"\"\n",
    "    plt.subplot(1, 3, 2)\n",
    "    bar = sns.barplot(x='grp', y='avg_check', data=metrics['avg_check'])\n",
    "    bar.axes.set_title('AVG', fontsize=16)\n",
    "    bar.set_xlabel('Group', fontsize=12)\n",
    "    bar.set_ylabel('Checks', fontsize=12)\n",
    "    plt.xticks(fontsize=12)\n",
    "    plt.yticks(fontsize=12)  \n",
    "    \"\"\" график CR\"\"\"\n",
    "    plt.subplot(1, 3, 3)\n",
    "    bar = sns.barplot(x='grp', y='cr', data=metrics['conversion'])\n",
    "    bar.axes.set_title(\"Conversion\", fontsize=16)\n",
    "    bar.set_xlabel('Group', fontsize=12)\n",
    "    bar.set_ylabel('CR ', fontsize=12)\n",
    "    plt.xticks(fontsize=12)\n",
    "    plt.yticks(fontsize=12)    "
   ]
  },
  {
   "cell_type": "code",
   "execution_count": 46,
   "id": "fd491fd6",
   "metadata": {},
   "outputs": [
    {
     "data": {
      "image/png": "[encoded data removed]",
      "text/plain": [
       "<Figure size 1440x648 with 3 Axes>"
      ]
     },
     "metadata": {},
     "output_type": "display_data"
    }
   ],
   "source": [
    "get_graf(metrics)"
   ]
  }
 ],
 "metadata": {
  "kernelspec": {
   "display_name": "Python 3",
   "language": "python",
   "name": "python3"
  },
  "language_info": {
   "codemirror_mode": {
    "name": "ipython",
    "version": 3
   },
   "file_extension": ".py",
   "mimetype": "text/x-python",
   "name": "python",
   "nbconvert_exporter": "python",
   "pygments_lexer": "ipython3",
   "version": "3.8.8"
  }
 },
 "nbformat": 4,
 "nbformat_minor": 5
}
